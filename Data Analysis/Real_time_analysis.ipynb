{
 "cells": [
  {
   "cell_type": "code",
   "execution_count": 4,
   "id": "a8552220",
   "metadata": {},
   "outputs": [
    {
     "name": "stdout",
     "output_type": "stream",
     "text": [
      "No parquet files found in the specified directory.\n"
     ]
    }
   ],
   "source": [
    "import glob, pandas as pd, pyarrow.parquet as pq\n",
    "files = glob.glob(\"streaming/data/stream/parquet/*.parquet\")\n",
    "if files:\n",
    "\tdf = pd.concat(pq.read_table(f).to_pandas() for f in files)\n",
    "\tdf.tail()\n",
    "else:\n",
    "\tprint(\"No parquet files found in the specified directory.\")\n",
    "\tdf = pd.DataFrame()\n"
   ]
  }
 ],
 "metadata": {
  "kernelspec": {
   "display_name": ".venv",
   "language": "python",
   "name": "python3"
  },
  "language_info": {
   "codemirror_mode": {
    "name": "ipython",
    "version": 3
   },
   "file_extension": ".py",
   "mimetype": "text/x-python",
   "name": "python",
   "nbconvert_exporter": "python",
   "pygments_lexer": "ipython3",
   "version": "3.13.3"
  }
 },
 "nbformat": 4,
 "nbformat_minor": 5
}
