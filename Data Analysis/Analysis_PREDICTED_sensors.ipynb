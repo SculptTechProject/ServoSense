{
 "cells": [
  {
   "cell_type": "code",
   "execution_count": 56,
   "id": "dd587767",
   "metadata": {},
   "outputs": [
    {
     "data": {
      "application/vnd.microsoft.datawrangler.viewer.v0+json": {
       "columns": [
        {
         "name": "index",
         "rawType": "int64",
         "type": "integer"
        },
        {
         "name": "event_time",
         "rawType": "object",
         "type": "string"
        },
        {
         "name": "machine_id",
         "rawType": "object",
         "type": "string"
        },
        {
         "name": "temperature",
         "rawType": "float64",
         "type": "float"
        },
        {
         "name": "vibration",
         "rawType": "float64",
         "type": "float"
        },
        {
         "name": "rpm",
         "rawType": "int64",
         "type": "integer"
        },
        {
         "name": "hour",
         "rawType": "int64",
         "type": "integer"
        },
        {
         "name": "minute",
         "rawType": "int64",
         "type": "integer"
        },
        {
         "name": "second",
         "rawType": "int64",
         "type": "integer"
        },
        {
         "name": "is_hot_pred",
         "rawType": "int64",
         "type": "integer"
        },
        {
         "name": "hot_probability",
         "rawType": "float64",
         "type": "float"
        }
       ],
       "ref": "5cacbb8f-4aaf-400e-b0d9-06197424870f",
       "rows": [
        [
         "0",
         "2025-06-20 19:31:43.041320",
         "M-001",
         "63.06",
         "0.063",
         "1725",
         "19",
         "31",
         "43",
         "0",
         "0.0174984126984127"
        ],
        [
         "1",
         "2025-06-20 19:31:43.082343",
         "M-002",
         "77.72",
         "0.233",
         "2018",
         "19",
         "31",
         "43",
         "0",
         "0.0234358507734303"
        ],
        [
         "2",
         "2025-06-20 19:31:43.125830",
         "M-002",
         "60.48",
         "0.201",
         "1693",
         "19",
         "31",
         "43",
         "0",
         "0.0234358507734303"
        ],
        [
         "3",
         "2025-06-20 19:31:43.162174",
         "M-004",
         "77.05",
         "0.089",
         "2092",
         "19",
         "31",
         "43",
         "0",
         "0.0017489177489177"
        ],
        [
         "4",
         "2025-06-20 19:31:43.193086",
         "M-001",
         "80.47",
         "0.092",
         "2038",
         "19",
         "31",
         "43",
         "0",
         "0.0017489177489177"
        ]
       ],
       "shape": {
        "columns": 10,
        "rows": 5
       }
      },
      "text/html": [
       "<div>\n",
       "<style scoped>\n",
       "    .dataframe tbody tr th:only-of-type {\n",
       "        vertical-align: middle;\n",
       "    }\n",
       "\n",
       "    .dataframe tbody tr th {\n",
       "        vertical-align: top;\n",
       "    }\n",
       "\n",
       "    .dataframe thead th {\n",
       "        text-align: right;\n",
       "    }\n",
       "</style>\n",
       "<table border=\"1\" class=\"dataframe\">\n",
       "  <thead>\n",
       "    <tr style=\"text-align: right;\">\n",
       "      <th></th>\n",
       "      <th>event_time</th>\n",
       "      <th>machine_id</th>\n",
       "      <th>temperature</th>\n",
       "      <th>vibration</th>\n",
       "      <th>rpm</th>\n",
       "      <th>hour</th>\n",
       "      <th>minute</th>\n",
       "      <th>second</th>\n",
       "      <th>is_hot_pred</th>\n",
       "      <th>hot_probability</th>\n",
       "    </tr>\n",
       "  </thead>\n",
       "  <tbody>\n",
       "    <tr>\n",
       "      <th>0</th>\n",
       "      <td>2025-06-20 19:31:43.041320</td>\n",
       "      <td>M-001</td>\n",
       "      <td>63.06</td>\n",
       "      <td>0.063</td>\n",
       "      <td>1725</td>\n",
       "      <td>19</td>\n",
       "      <td>31</td>\n",
       "      <td>43</td>\n",
       "      <td>0</td>\n",
       "      <td>0.017498</td>\n",
       "    </tr>\n",
       "    <tr>\n",
       "      <th>1</th>\n",
       "      <td>2025-06-20 19:31:43.082343</td>\n",
       "      <td>M-002</td>\n",
       "      <td>77.72</td>\n",
       "      <td>0.233</td>\n",
       "      <td>2018</td>\n",
       "      <td>19</td>\n",
       "      <td>31</td>\n",
       "      <td>43</td>\n",
       "      <td>0</td>\n",
       "      <td>0.023436</td>\n",
       "    </tr>\n",
       "    <tr>\n",
       "      <th>2</th>\n",
       "      <td>2025-06-20 19:31:43.125830</td>\n",
       "      <td>M-002</td>\n",
       "      <td>60.48</td>\n",
       "      <td>0.201</td>\n",
       "      <td>1693</td>\n",
       "      <td>19</td>\n",
       "      <td>31</td>\n",
       "      <td>43</td>\n",
       "      <td>0</td>\n",
       "      <td>0.023436</td>\n",
       "    </tr>\n",
       "    <tr>\n",
       "      <th>3</th>\n",
       "      <td>2025-06-20 19:31:43.162174</td>\n",
       "      <td>M-004</td>\n",
       "      <td>77.05</td>\n",
       "      <td>0.089</td>\n",
       "      <td>2092</td>\n",
       "      <td>19</td>\n",
       "      <td>31</td>\n",
       "      <td>43</td>\n",
       "      <td>0</td>\n",
       "      <td>0.001749</td>\n",
       "    </tr>\n",
       "    <tr>\n",
       "      <th>4</th>\n",
       "      <td>2025-06-20 19:31:43.193086</td>\n",
       "      <td>M-001</td>\n",
       "      <td>80.47</td>\n",
       "      <td>0.092</td>\n",
       "      <td>2038</td>\n",
       "      <td>19</td>\n",
       "      <td>31</td>\n",
       "      <td>43</td>\n",
       "      <td>0</td>\n",
       "      <td>0.001749</td>\n",
       "    </tr>\n",
       "  </tbody>\n",
       "</table>\n",
       "</div>"
      ],
      "text/plain": [
       "                   event_time machine_id  temperature  vibration   rpm  hour  \\\n",
       "0  2025-06-20 19:31:43.041320      M-001        63.06      0.063  1725    19   \n",
       "1  2025-06-20 19:31:43.082343      M-002        77.72      0.233  2018    19   \n",
       "2  2025-06-20 19:31:43.125830      M-002        60.48      0.201  1693    19   \n",
       "3  2025-06-20 19:31:43.162174      M-004        77.05      0.089  2092    19   \n",
       "4  2025-06-20 19:31:43.193086      M-001        80.47      0.092  2038    19   \n",
       "\n",
       "   minute  second  is_hot_pred  hot_probability  \n",
       "0      31      43            0         0.017498  \n",
       "1      31      43            0         0.023436  \n",
       "2      31      43            0         0.023436  \n",
       "3      31      43            0         0.001749  \n",
       "4      31      43            0         0.001749  "
      ]
     },
     "execution_count": 56,
     "metadata": {},
     "output_type": "execute_result"
    }
   ],
   "source": [
    "import pandas as pd\n",
    "from sklearn.metrics import confusion_matrix\n",
    "from sklearn.metrics import classification_report, roc_auc_score\n",
    "import matplotlib.pyplot as plt\n",
    "\n",
    "df = pd.read_csv(\"../serving/output_data/predictions.csv\")\n",
    "df.head()"
   ]
  },
  {
   "cell_type": "code",
   "execution_count": 57,
   "id": "947f19b1",
   "metadata": {},
   "outputs": [
    {
     "name": "stdout",
     "output_type": "stream",
     "text": [
      "Overall hot rate: 0.17835671342685372\n",
      "count    499.000000\n",
      "mean       0.178172\n",
      "std        0.344764\n",
      "min        0.000000\n",
      "25%        0.007085\n",
      "50%        0.017903\n",
      "75%        0.039616\n",
      "max        0.978366\n",
      "Name: hot_probability, dtype: float64\n"
     ]
    }
   ],
   "source": [
    "print(\"Overall hot rate:\", df[\"is_hot_pred\"].mean())\n",
    "\n",
    "print(df[\"hot_probability\"].describe())"
   ]
  },
  {
   "cell_type": "code",
   "execution_count": 58,
   "id": "fe5f247d",
   "metadata": {},
   "outputs": [
    {
     "name": "stdout",
     "output_type": "stream",
     "text": [
      "Confusion matrix:\n",
      " [[410   0]\n",
      " [  0  89]]\n"
     ]
    }
   ],
   "source": [
    "TH = 85\n",
    "df[\"is_hot_true\"] = (df[\"temperature\"] > TH).astype(int)\n",
    "\n",
    "cm = confusion_matrix(df[\"is_hot_true\"], df[\"is_hot_pred\"])\n",
    "print(\"Confusion matrix:\\n\", cm)"
   ]
  },
  {
   "cell_type": "code",
   "execution_count": 59,
   "id": "9fdf00f6",
   "metadata": {},
   "outputs": [
    {
     "name": "stdout",
     "output_type": "stream",
     "text": [
      "              precision    recall  f1-score   support\n",
      "\n",
      "           0       1.00      1.00      1.00       410\n",
      "           1       1.00      1.00      1.00        89\n",
      "\n",
      "    accuracy                           1.00       499\n",
      "   macro avg       1.00      1.00      1.00       499\n",
      "weighted avg       1.00      1.00      1.00       499\n",
      "\n",
      "ROC AUC: 1.0\n"
     ]
    }
   ],
   "source": [
    "print(classification_report(df[\"is_hot_true\"], df[\"is_hot_pred\"].round(3)))\n",
    "print(\"ROC AUC:\", roc_auc_score(df[\"is_hot_true\"], df[\"hot_probability\"].round(3)))"
   ]
  },
  {
   "cell_type": "code",
   "execution_count": 60,
   "id": "8f817024",
   "metadata": {},
   "outputs": [
    {
     "data": {
      "image/png": "[encoded data removed]",
      "text/plain": [
       "<Figure size 1000x400 with 1 Axes>"
      ]
     },
     "metadata": {},
     "output_type": "display_data"
    }
   ],
   "source": [
    "df[\"event_time\"] = pd.to_datetime(df[\"event_time\"])\n",
    "df.set_index(\"event_time\", inplace=True)\n",
    "\n",
    "hot_rate = df[\"is_hot_pred\"].rolling(window=pd.Timedelta(\"1min\")).mean()\n",
    "hot_rate_per_min = df[\"is_hot_pred\"].resample(\"1min\").mean()\n",
    "\n",
    "plt.figure(figsize=(10,4))\n",
    "plt.plot(hot_rate.index,     hot_rate.values,     label=\"rolling 1min\")\n",
    "plt.plot(hot_rate_per_min.index, hot_rate_per_min.values, marker=\"o\", linestyle=\"--\", label=\"per minute\")\n",
    "plt.legend()\n",
    "plt.title(\"Hot-rate over time\")\n",
    "plt.ylabel(\"Hot rate\")\n",
    "plt.xlabel(\"Time\")\n",
    "plt.grid(alpha=0.3)\n",
    "plt.legend()\n",
    "plt.show()"
   ]
  },
  {
   "cell_type": "code",
   "execution_count": 61,
   "id": "f762a251",
   "metadata": {},
   "outputs": [
    {
     "data": {
      "image/png": "[encoded data removed]",
      "text/plain": [
       "<Figure size 800x400 with 1 Axes>"
      ]
     },
     "metadata": {},
     "output_type": "display_data"
    }
   ],
   "source": [
    "group = df.groupby(\"machine_id\").agg({\n",
    "      \"is_hot_pred\":\"mean\",\n",
    "      \"hot_probability\":\"mean\",\n",
    "      \"temperature\":\"mean\"\n",
    "}).reset_index()\n",
    "\n",
    "plt.figure(figsize=(8,4))\n",
    "plt.bar(group[\"machine_id\"], group[\"is_hot_pred\"])\n",
    "plt.title(\"Average predicted hot rate per machine\")\n",
    "plt.xlabel(\"Machine ID\")\n",
    "plt.ylabel(\"Predicted hot rate\")\n",
    "plt.show()"
   ]
  },
  {
   "cell_type": "code",
   "execution_count": 62,
   "id": "02335864",
   "metadata": {},
   "outputs": [
    {
     "data": {
      "image/png": "[encoded data removed]",
      "text/plain": [
       "<Figure size 640x480 with 1 Axes>"
      ]
     },
     "metadata": {},
     "output_type": "display_data"
    }
   ],
   "source": [
    "plt.figure()\n",
    "plt.hist(df[\"hot_probability\"], bins=20)\n",
    "plt.title(\"Distribution of hot probabilities\")\n",
    "plt.xlabel(\"Probability\")\n",
    "plt.ylabel(\"Count\")\n",
    "plt.show()"
   ]
  }
 ],
 "metadata": {
  "kernelspec": {
   "display_name": ".venv",
   "language": "python",
   "name": "python3"
  },
  "language_info": {
   "codemirror_mode": {
    "name": "ipython",
    "version": 3
   },
   "file_extension": ".py",
   "mimetype": "text/x-python",
   "name": "python",
   "nbconvert_exporter": "python",
   "pygments_lexer": "ipython3",
   "version": "3.13.3"
  }
 },
 "nbformat": 4,
 "nbformat_minor": 5
}
