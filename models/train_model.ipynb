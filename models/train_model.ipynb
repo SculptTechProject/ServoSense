{
 "cells": [
  {
   "cell_type": "code",
   "execution_count": 1,
   "id": "9f51a002",
   "metadata": {},
   "outputs": [
    {
     "data": {
      "application/vnd.microsoft.datawrangler.viewer.v0+json": {
       "columns": [
        {
         "name": "index",
         "rawType": "int64",
         "type": "integer"
        },
        {
         "name": "event_time",
         "rawType": "datetime64[ns]",
         "type": "datetime"
        },
        {
         "name": "machine_id",
         "rawType": "object",
         "type": "string"
        },
        {
         "name": "temperature",
         "rawType": "float64",
         "type": "float"
        },
        {
         "name": "vibration",
         "rawType": "float64",
         "type": "float"
        },
        {
         "name": "rpm",
         "rawType": "int64",
         "type": "integer"
        }
       ],
       "ref": "4a207091-7546-439e-9e30-820061ea18e9",
       "rows": [
        [
         "0",
         "2025-06-20 19:31:43.041320",
         "M-001",
         "63.06",
         "0.063",
         "1725"
        ],
        [
         "1",
         "2025-06-20 19:31:43.082343",
         "M-002",
         "77.72",
         "0.233",
         "2018"
        ],
        [
         "2",
         "2025-06-20 19:31:43.125830",
         "M-002",
         "60.48",
         "0.201",
         "1693"
        ],
        [
         "3",
         "2025-06-20 19:31:43.162174",
         "M-004",
         "77.05",
         "0.089",
         "2092"
        ],
        [
         "4",
         "2025-06-20 19:31:43.193086",
         "M-001",
         "80.47",
         "0.092",
         "2038"
        ]
       ],
       "shape": {
        "columns": 5,
        "rows": 5
       }
      },
      "text/html": [
       "<div>\n",
       "<style scoped>\n",
       "    .dataframe tbody tr th:only-of-type {\n",
       "        vertical-align: middle;\n",
       "    }\n",
       "\n",
       "    .dataframe tbody tr th {\n",
       "        vertical-align: top;\n",
       "    }\n",
       "\n",
       "    .dataframe thead th {\n",
       "        text-align: right;\n",
       "    }\n",
       "</style>\n",
       "<table border=\"1\" class=\"dataframe\">\n",
       "  <thead>\n",
       "    <tr style=\"text-align: right;\">\n",
       "      <th></th>\n",
       "      <th>event_time</th>\n",
       "      <th>machine_id</th>\n",
       "      <th>temperature</th>\n",
       "      <th>vibration</th>\n",
       "      <th>rpm</th>\n",
       "    </tr>\n",
       "  </thead>\n",
       "  <tbody>\n",
       "    <tr>\n",
       "      <th>0</th>\n",
       "      <td>2025-06-20 19:31:43.041320</td>\n",
       "      <td>M-001</td>\n",
       "      <td>63.06</td>\n",
       "      <td>0.063</td>\n",
       "      <td>1725</td>\n",
       "    </tr>\n",
       "    <tr>\n",
       "      <th>1</th>\n",
       "      <td>2025-06-20 19:31:43.082343</td>\n",
       "      <td>M-002</td>\n",
       "      <td>77.72</td>\n",
       "      <td>0.233</td>\n",
       "      <td>2018</td>\n",
       "    </tr>\n",
       "    <tr>\n",
       "      <th>2</th>\n",
       "      <td>2025-06-20 19:31:43.125830</td>\n",
       "      <td>M-002</td>\n",
       "      <td>60.48</td>\n",
       "      <td>0.201</td>\n",
       "      <td>1693</td>\n",
       "    </tr>\n",
       "    <tr>\n",
       "      <th>3</th>\n",
       "      <td>2025-06-20 19:31:43.162174</td>\n",
       "      <td>M-004</td>\n",
       "      <td>77.05</td>\n",
       "      <td>0.089</td>\n",
       "      <td>2092</td>\n",
       "    </tr>\n",
       "    <tr>\n",
       "      <th>4</th>\n",
       "      <td>2025-06-20 19:31:43.193086</td>\n",
       "      <td>M-001</td>\n",
       "      <td>80.47</td>\n",
       "      <td>0.092</td>\n",
       "      <td>2038</td>\n",
       "    </tr>\n",
       "  </tbody>\n",
       "</table>\n",
       "</div>"
      ],
      "text/plain": [
       "                  event_time machine_id  temperature  vibration   rpm\n",
       "0 2025-06-20 19:31:43.041320      M-001        63.06      0.063  1725\n",
       "1 2025-06-20 19:31:43.082343      M-002        77.72      0.233  2018\n",
       "2 2025-06-20 19:31:43.125830      M-002        60.48      0.201  1693\n",
       "3 2025-06-20 19:31:43.162174      M-004        77.05      0.089  2092\n",
       "4 2025-06-20 19:31:43.193086      M-001        80.47      0.092  2038"
      ]
     },
     "execution_count": 1,
     "metadata": {},
     "output_type": "execute_result"
    }
   ],
   "source": [
    "import pandas as pd\n",
    "import numpy as np\n",
    "from sklearn.model_selection import train_test_split, GridSearchCV\n",
    "from sklearn.ensemble        import RandomForestClassifier\n",
    "from sklearn.metrics         import classification_report, confusion_matrix, roc_auc_score\n",
    "import matplotlib.pyplot as plt\n",
    "\n",
    "df = pd.read_csv(\"../batch/data/sensors.csv\", parse_dates=[\"event_time\"])\n",
    "df.head()"
   ]
  },
  {
   "cell_type": "code",
   "execution_count": 2,
   "id": "71fe9bf1",
   "metadata": {},
   "outputs": [
    {
     "name": "stdout",
     "output_type": "stream",
     "text": [
      "(499, 6) is_hot\n",
      "0    410\n",
      "1     89\n",
      "Name: count, dtype: int64\n"
     ]
    }
   ],
   "source": [
    "TH = 85\n",
    "df[\"is_hot\"] = (df[\"temperature\"] > TH).astype(int)\n",
    "\n",
    "df[\"hour\"] = df[\"event_time\"].dt.hour\n",
    "df[\"minute\"] = df[\"event_time\"].dt.minute\n",
    "df[\"second\"] = df[\"event_time\"].dt.second\n",
    "\n",
    "features = [\"temperature\", \"vibration\", \"rpm\", \"hour\", \"minute\", \"second\"]\n",
    "X = df[features]\n",
    "y = df[\"is_hot\"]\n",
    "\n",
    "print(X.shape, y.value_counts())"
   ]
  },
  {
   "cell_type": "code",
   "execution_count": 3,
   "id": "09d8d61b",
   "metadata": {},
   "outputs": [
    {
     "name": "stdout",
     "output_type": "stream",
     "text": [
      "Train: (399, 6) Test: (100, 6)\n"
     ]
    }
   ],
   "source": [
    "X_train, X_test, y_train, y_test = train_test_split(\n",
    "      X, y, test_size=0.2, random_state=42, stratify=y\n",
    ")\n",
    "print(\"Train:\", X_train.shape, \"Test:\", X_test.shape)"
   ]
  },
  {
   "cell_type": "code",
   "execution_count": 4,
   "id": "89dc67db",
   "metadata": {},
   "outputs": [
    {
     "name": "stdout",
     "output_type": "stream",
     "text": [
      "              precision    recall  f1-score   support\n",
      "\n",
      "           0       1.00      1.00      1.00        82\n",
      "           1       1.00      1.00      1.00        18\n",
      "\n",
      "    accuracy                           1.00       100\n",
      "   macro avg       1.00      1.00      1.00       100\n",
      "weighted avg       1.00      1.00      1.00       100\n",
      "\n",
      "ROC AUC: 1.0\n"
     ]
    }
   ],
   "source": [
    "rf = RandomForestClassifier(random_state=42)\n",
    "rf.fit(X_train, y_train)\n",
    "\n",
    "y_pred = rf.predict(X_test)\n",
    "print(classification_report(y_test, y_pred))\n",
    "print(\"ROC AUC:\", roc_auc_score(y_test, rf.predict_proba(X_test)[:,1]))"
   ]
  },
  {
   "cell_type": "code",
   "execution_count": 5,
   "id": "b18dd7d1",
   "metadata": {},
   "outputs": [
    {
     "name": "stdout",
     "output_type": "stream",
     "text": [
      "Best params: {'max_depth': 5, 'n_estimators': 50}\n",
      "              precision    recall  f1-score   support\n",
      "\n",
      "           0       1.00      1.00      1.00        82\n",
      "           1       1.00      1.00      1.00        18\n",
      "\n",
      "    accuracy                           1.00       100\n",
      "   macro avg       1.00      1.00      1.00       100\n",
      "weighted avg       1.00      1.00      1.00       100\n",
      "\n",
      "ROC AUC: 1.0\n"
     ]
    }
   ],
   "source": [
    "param_grid = {\n",
    "      \"n_estimators\": [50, 100],\n",
    "      \"max_depth\": [5, 10, None]\n",
    "}\n",
    "gs = GridSearchCV(rf, param_grid, cv=3, scoring=\"roc_auc\", n_jobs=-1)\n",
    "gs.fit(X_train, y_train)\n",
    "\n",
    "print(\"Best params:\", gs.best_params_)\n",
    "best = gs.best_estimator_\n",
    "\n",
    "y_pred = best.predict(X_test)\n",
    "print(classification_report(y_test, y_pred))\n",
    "print(\"ROC AUC:\", roc_auc_score(y_test, best.predict_proba(X_test)[:,1]))"
   ]
  },
  {
   "cell_type": "code",
   "execution_count": 6,
   "id": "57ac28df",
   "metadata": {},
   "outputs": [
    {
     "data": {
      "image/png": "[encoded data removed]",
      "text/plain": [
       "<Figure size 400x400 with 1 Axes>"
      ]
     },
     "metadata": {},
     "output_type": "display_data"
    }
   ],
   "source": [
    "cm = confusion_matrix(y_test, y_pred)\n",
    "plt.figure(figsize=(4,4))\n",
    "plt.imshow(cm, cmap=\"Blues\")\n",
    "plt.title(\"Confusion Matrix\")\n",
    "plt.xticks([0,1], [\"Normal\",\"Hot\"])\n",
    "plt.yticks([0,1], [\"Normal\",\"Hot\"])\n",
    "for i in range(2):\n",
    "      for j in range(2):\n",
    "            plt.text(j, i, cm[i,j], ha=\"center\", va=\"center\", color=\"white\")\n",
    "plt.ylabel(\"True\")\n",
    "plt.xlabel(\"Predicted\")\n",
    "plt.show()"
   ]
  },
  {
   "cell_type": "code",
   "execution_count": 7,
   "id": "557c4299",
   "metadata": {},
   "outputs": [
    {
     "data": {
      "text/plain": [
       "['c:\\\\Users\\\\matie\\\\Desktop\\\\Projects\\\\ServoSense\\\\serving\\\\model_rf.pkl']"
      ]
     },
     "execution_count": 7,
     "metadata": {},
     "output_type": "execute_result"
    }
   ],
   "source": [
    "import joblib, os\n",
    "out_path = os.path.abspath(\"../serving/model_rf.pkl\")\n",
    "joblib.dump(best, out_path)"
   ]
  }
 ],
 "metadata": {
  "kernelspec": {
   "display_name": ".venv",
   "language": "python",
   "name": "python3"
  },
  "language_info": {
   "codemirror_mode": {
    "name": "ipython",
    "version": 3
   },
   "file_extension": ".py",
   "mimetype": "text/x-python",
   "name": "python",
   "nbconvert_exporter": "python",
   "pygments_lexer": "ipython3",
   "version": "3.13.3"
  }
 },
 "nbformat": 4,
 "nbformat_minor": 5
}
